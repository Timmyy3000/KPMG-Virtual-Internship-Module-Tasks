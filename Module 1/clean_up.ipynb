{
 "cells": [
  {
   "cell_type": "code",
   "execution_count": 138,
   "metadata": {},
   "outputs": [],
   "source": [
    "import numpy as np\n",
    "import pandas as pd\n",
    "import matplotlib.pyplot as plt\n",
    "import jedi"
   ]
  },
  {
   "cell_type": "code",
   "execution_count": 171,
   "metadata": {},
   "outputs": [],
   "source": [
    "import os\n",
    "file = 'KPMG_data_update_final.xlsx'\n"
   ]
  },
  {
   "cell_type": "code",
   "execution_count": 140,
   "metadata": {},
   "outputs": [],
   "source": [
    "data = pd.ExcelFile('KPMG_data_update_final.xlsx')\n",
    "sheet_names = data.sheet_names"
   ]
  },
  {
   "cell_type": "markdown",
   "metadata": {},
   "source": [
    "## Customer Demographic Sheet"
   ]
  },
  {
   "cell_type": "code",
   "execution_count": 141,
   "metadata": {},
   "outputs": [
    {
     "data": {
      "text/html": [
       "<div>\n",
       "<style scoped>\n",
       "    .dataframe tbody tr th:only-of-type {\n",
       "        vertical-align: middle;\n",
       "    }\n",
       "\n",
       "    .dataframe tbody tr th {\n",
       "        vertical-align: top;\n",
       "    }\n",
       "\n",
       "    .dataframe thead th {\n",
       "        text-align: right;\n",
       "    }\n",
       "</style>\n",
       "<table border=\"1\" class=\"dataframe\">\n",
       "  <thead>\n",
       "    <tr style=\"text-align: right;\">\n",
       "      <th></th>\n",
       "      <th>customer_id</th>\n",
       "      <th>first_name</th>\n",
       "      <th>last_name</th>\n",
       "      <th>gender</th>\n",
       "      <th>past_3_years_bike_related_purchases</th>\n",
       "      <th>DOB</th>\n",
       "      <th>Age</th>\n",
       "      <th>job_title</th>\n",
       "      <th>job_industry_category</th>\n",
       "      <th>wealth_segment</th>\n",
       "      <th>deceased_indicator</th>\n",
       "      <th>owns_car</th>\n",
       "      <th>tenure</th>\n",
       "    </tr>\n",
       "  </thead>\n",
       "  <tbody>\n",
       "    <tr>\n",
       "      <th>0</th>\n",
       "      <td>1</td>\n",
       "      <td>Laraine</td>\n",
       "      <td>Medendorp</td>\n",
       "      <td>F</td>\n",
       "      <td>93</td>\n",
       "      <td>1953-10-12 00:00:00</td>\n",
       "      <td>67.282751</td>\n",
       "      <td>Executive Secretary</td>\n",
       "      <td>Health</td>\n",
       "      <td>Mass Customer</td>\n",
       "      <td>N</td>\n",
       "      <td>Yes</td>\n",
       "      <td>11.0</td>\n",
       "    </tr>\n",
       "    <tr>\n",
       "      <th>1</th>\n",
       "      <td>2</td>\n",
       "      <td>Eli</td>\n",
       "      <td>Bockman</td>\n",
       "      <td>M</td>\n",
       "      <td>81</td>\n",
       "      <td>1980-12-16 00:00:00</td>\n",
       "      <td>40.085491</td>\n",
       "      <td>Administrative Officer</td>\n",
       "      <td>Financial Services</td>\n",
       "      <td>Mass Customer</td>\n",
       "      <td>N</td>\n",
       "      <td>Yes</td>\n",
       "      <td>16.0</td>\n",
       "    </tr>\n",
       "    <tr>\n",
       "      <th>2</th>\n",
       "      <td>3</td>\n",
       "      <td>Arlin</td>\n",
       "      <td>Dearle</td>\n",
       "      <td>M</td>\n",
       "      <td>61</td>\n",
       "      <td>1954-01-20 00:00:00</td>\n",
       "      <td>67.008778</td>\n",
       "      <td>Recruiting Manager</td>\n",
       "      <td>Property</td>\n",
       "      <td>Mass Customer</td>\n",
       "      <td>N</td>\n",
       "      <td>Yes</td>\n",
       "      <td>15.0</td>\n",
       "    </tr>\n",
       "    <tr>\n",
       "      <th>3</th>\n",
       "      <td>4</td>\n",
       "      <td>Talbot</td>\n",
       "      <td>NaN</td>\n",
       "      <td>M</td>\n",
       "      <td>33</td>\n",
       "      <td>1961-10-03 00:00:00</td>\n",
       "      <td>59.301929</td>\n",
       "      <td>NaN</td>\n",
       "      <td>IT</td>\n",
       "      <td>Mass Customer</td>\n",
       "      <td>N</td>\n",
       "      <td>No</td>\n",
       "      <td>7.0</td>\n",
       "    </tr>\n",
       "    <tr>\n",
       "      <th>4</th>\n",
       "      <td>5</td>\n",
       "      <td>Sheila-kathryn</td>\n",
       "      <td>Calton</td>\n",
       "      <td>F</td>\n",
       "      <td>56</td>\n",
       "      <td>1977-05-13 00:00:00</td>\n",
       "      <td>43.682751</td>\n",
       "      <td>Senior Editor</td>\n",
       "      <td>NaN</td>\n",
       "      <td>Affluent Customer</td>\n",
       "      <td>N</td>\n",
       "      <td>Yes</td>\n",
       "      <td>8.0</td>\n",
       "    </tr>\n",
       "  </tbody>\n",
       "</table>\n",
       "</div>"
      ],
      "text/plain": [
       "   customer_id      first_name  last_name gender  \\\n",
       "0            1         Laraine  Medendorp      F   \n",
       "1            2             Eli    Bockman      M   \n",
       "2            3           Arlin     Dearle      M   \n",
       "3            4          Talbot        NaN      M   \n",
       "4            5  Sheila-kathryn     Calton      F   \n",
       "\n",
       "   past_3_years_bike_related_purchases                  DOB        Age  \\\n",
       "0                                   93  1953-10-12 00:00:00  67.282751   \n",
       "1                                   81  1980-12-16 00:00:00  40.085491   \n",
       "2                                   61  1954-01-20 00:00:00  67.008778   \n",
       "3                                   33  1961-10-03 00:00:00  59.301929   \n",
       "4                                   56  1977-05-13 00:00:00  43.682751   \n",
       "\n",
       "                job_title job_industry_category     wealth_segment  \\\n",
       "0     Executive Secretary                Health      Mass Customer   \n",
       "1  Administrative Officer    Financial Services      Mass Customer   \n",
       "2      Recruiting Manager              Property      Mass Customer   \n",
       "3                     NaN                    IT      Mass Customer   \n",
       "4           Senior Editor                   NaN  Affluent Customer   \n",
       "\n",
       "  deceased_indicator owns_car  tenure  \n",
       "0                  N      Yes    11.0  \n",
       "1                  N      Yes    16.0  \n",
       "2                  N      Yes    15.0  \n",
       "3                  N       No     7.0  \n",
       "4                  N      Yes     8.0  "
      ]
     },
     "execution_count": 141,
     "metadata": {},
     "output_type": "execute_result"
    }
   ],
   "source": [
    "# loading first sheet - Customer demographics\n",
    "\n",
    "customer_demo_df = pd.read_excel(file, header=1, sheet_name='CustomerDemographic')\n",
    "customer_demo_df.head()"
   ]
  },
  {
   "cell_type": "code",
   "execution_count": 142,
   "metadata": {},
   "outputs": [
    {
     "data": {
      "text/plain": [
       "(4000, 13)"
      ]
     },
     "execution_count": 142,
     "metadata": {},
     "output_type": "execute_result"
    }
   ],
   "source": [
    "# dimension of data\n",
    "\n",
    "customer_demo_df.shape"
   ]
  },
  {
   "cell_type": "code",
   "execution_count": 143,
   "metadata": {},
   "outputs": [
    {
     "data": {
      "text/plain": [
       "customer_id                            0.0\n",
       "first_name                             0.0\n",
       "last_name                              0.0\n",
       "gender                                 0.0\n",
       "past_3_years_bike_related_purchases    0.0\n",
       "DOB                                    0.0\n",
       "Age                                    0.0\n",
       "job_title                              0.0\n",
       "job_industry_category                  0.0\n",
       "wealth_segment                         0.0\n",
       "deceased_indicator                     0.0\n",
       "owns_car                               0.0\n",
       "tenure                                 0.0\n",
       "dtype: float64"
      ]
     },
     "execution_count": 143,
     "metadata": {},
     "output_type": "execute_result"
    }
   ],
   "source": [
    "#checking for duplicated values\n",
    "\n",
    "customer_demo_df[customer_demo_df.duplicated()].sum()"
   ]
  },
  {
   "cell_type": "markdown",
   "metadata": {},
   "source": [
    "*Assessing each coloumn for empty Values*"
   ]
  },
  {
   "cell_type": "code",
   "execution_count": 144,
   "metadata": {},
   "outputs": [
    {
     "data": {
      "text/plain": [
       "customer_id                              0\n",
       "first_name                               0\n",
       "last_name                              125\n",
       "gender                                   0\n",
       "past_3_years_bike_related_purchases      0\n",
       "DOB                                     87\n",
       "Age                                     87\n",
       "job_title                              506\n",
       "job_industry_category                  656\n",
       "wealth_segment                           0\n",
       "deceased_indicator                       0\n",
       "owns_car                                 0\n",
       "tenure                                  87\n",
       "dtype: int64"
      ]
     },
     "execution_count": 144,
     "metadata": {},
     "output_type": "execute_result"
    }
   ],
   "source": [
    "pd.isna(customer_demo_df).sum()"
   ]
  },
  {
   "cell_type": "code",
   "execution_count": 145,
   "metadata": {},
   "outputs": [],
   "source": [
    "# Replacing missing last_names with 'n/a'\n",
    "\n",
    "customer_demo_df['last_name'] = customer_demo_df['last_name'].fillna('n/a')"
   ]
  },
  {
   "cell_type": "code",
   "execution_count": 146,
   "metadata": {},
   "outputs": [
    {
     "name": "stdout",
     "output_type": "stream",
     "text": [
      "gender :  ['F' 'M' 'U']\n"
     ]
    },
    {
     "data": {
      "text/plain": [
       "(array([2039.,    0.,    0.,    0.,    0., 1873.,    0.,    0.,    0.,\n",
       "          88.]),\n",
       " array([0. , 0.2, 0.4, 0.6, 0.8, 1. , 1.2, 1.4, 1.6, 1.8, 2. ]),\n",
       " <a list of 10 Patch objects>)"
      ]
     },
     "execution_count": 146,
     "metadata": {},
     "output_type": "execute_result"
    },
    {
     "data": {
      "image/png": "[encoded data removed]",
      "text/plain": [
       "<Figure size 432x288 with 1 Axes>"
      ]
     },
     "metadata": {
      "needs_background": "light"
     },
     "output_type": "display_data"
    }
   ],
   "source": [
    "# Analyze gender values  \n",
    "\n",
    "print('gender : ', customer_demo_df['gender'].unique())\n",
    "plt.hist(customer_demo_df['gender'][pd.notna(customer_demo_df['gender'])])"
   ]
  },
  {
   "cell_type": "code",
   "execution_count": 147,
   "metadata": {
    "scrolled": true
   },
   "outputs": [
    {
     "name": "stdout",
     "output_type": "stream",
     "text": [
      "DOB Blanks :  0\n"
     ]
    }
   ],
   "source": [
    "# analysizing DOB\n",
    "\n",
    "#reomving null / strin g/ float values \n",
    "\n",
    "\n",
    "i = 0\n",
    "\n",
    "for d in customer_demo_df['DOB'] :\n",
    "    \n",
    "    if isinstance(d, datetime) == False :\n",
    "\n",
    "           customer_demo_df = customer_demo_df.drop(index = i)            \n",
    "    \n",
    "    i = i + 1\n",
    "\n",
    "print('DOB Blanks : ', pd.isna(customer_demo_df).sum()['DOB'])"
   ]
  },
  {
   "cell_type": "code",
   "execution_count": 148,
   "metadata": {
    "scrolled": true
   },
   "outputs": [
    {
     "data": {
      "text/plain": [
       "count                    3912\n",
       "unique                   3447\n",
       "top       1978-01-30 00:00:00\n",
       "freq                        7\n",
       "Name: DOB, dtype: object"
      ]
     },
     "execution_count": 148,
     "metadata": {},
     "output_type": "execute_result"
    }
   ],
   "source": [
    "# brief statistical description \n",
    "\n",
    "customer_demo_df['DOB'].describe(datetime_is_numeric=True)"
   ]
  },
  {
   "cell_type": "code",
   "execution_count": 149,
   "metadata": {
    "scrolled": true
   },
   "outputs": [
    {
     "data": {
      "image/png": "[encoded data removed]",
      "text/plain": [
       "<Figure size 432x288 with 1 Axes>"
      ]
     },
     "metadata": {
      "needs_background": "light"
     },
     "output_type": "display_data"
    }
   ],
   "source": [
    "# plot a scatter graph of DOB\n",
    "\n",
    "plt.scatter([d.year for d in customer_demo_df['DOB']], [d.month for d in customer_demo_df['DOB']])\n",
    "plt.xlabel('Year')\n",
    "plt.ylabel('Month')\n",
    "plt.show()"
   ]
  },
  {
   "cell_type": "code",
   "execution_count": 150,
   "metadata": {},
   "outputs": [
    {
     "name": "stdout",
     "output_type": "stream",
     "text": [
      "count    3912.000000\n",
      "mean       43.481470\n",
      "std        12.626149\n",
      "min        18.838915\n",
      "25%        33.879326\n",
      "50%        43.482751\n",
      "75%        52.986861\n",
      "max        89.269052\n",
      "Name: Age, dtype: float64\n"
     ]
    },
    {
     "data": {
      "text/plain": [
       "<matplotlib.collections.PathCollection at 0x17d2da37748>"
      ]
     },
     "execution_count": 150,
     "metadata": {},
     "output_type": "execute_result"
    },
    {
     "data": {
      "image/png": "[encoded data removed]",
      "text/plain": [
       "<Figure size 432x288 with 1 Axes>"
      ]
     },
     "metadata": {
      "needs_background": "light"
     },
     "output_type": "display_data"
    }
   ],
   "source": [
    "#To create age column\n",
    "# from datetime import datetime\n",
    "# cust_demo_df['age'] = (datetime.now() - cust_demo_df['DOB']) // 365\n",
    "\n",
    "print(customer_demo_df['Age'].describe())\n",
    "\n",
    "#Ploting Age column against DOB\n",
    "\n",
    "plt.scatter([d.year for d in customer_demo_df['DOB']], customer_demo_df['Age']) "
   ]
  },
  {
   "cell_type": "code",
   "execution_count": 151,
   "metadata": {},
   "outputs": [
    {
     "name": "stdout",
     "output_type": "stream",
     "text": [
      "job_title :  ['Executive Secretary' 'Administrative Officer' 'Recruiting Manager' nan\n",
      " 'Senior Editor' 'Media Manager I' 'Business Systems Development Analyst'\n",
      " 'Senior Quality Engineer' 'Nuclear Power Engineer' 'Developer I'\n",
      " 'Account Executive' 'Junior Executive' 'Media Manager IV'\n",
      " 'Sales Associate' 'Professor' 'Geological Engineer' 'Project Manager'\n",
      " 'Safety Technician I' 'Research Assistant I' 'Accounting Assistant III'\n",
      " 'Editor' 'Research Nurse' 'Safety Technician III' 'Staff Accountant III'\n",
      " 'Legal Assistant' 'Product Engineer' 'Information Systems Manager'\n",
      " 'VP Quality Control' 'Social Worker' 'Senior Cost Accountant'\n",
      " 'Assistant Media Planner' 'Payment Adjustment Coordinator' 'Food Chemist'\n",
      " 'Accountant III' 'Director of Sales' 'Senior Financial Analyst'\n",
      " 'Registered Nurse' 'Biostatistician II' 'Computer Systems Analyst II'\n",
      " 'Software Test Engineer II' 'Paralegal' 'VP Sales'\n",
      " 'Chief Design Engineer' 'Office Assistant III'\n",
      " 'Physical Therapy Assistant' 'Help Desk Operator' 'Web Developer II'\n",
      " 'Research Associate' 'Teacher' 'VP Product Management' 'Statistician II'\n",
      " 'Automation Specialist IV' 'Data Coordiator' 'Software Test Engineer III'\n",
      " 'Internal Auditor' 'Analyst Programmer' 'Occupational Therapist'\n",
      " 'Speech Pathologist' 'Quality Control Specialist' 'Civil Engineer'\n",
      " 'Software Engineer III' 'Community Outreach Specialist'\n",
      " 'Safety Technician IV' 'VP Accounting' 'General Manager'\n",
      " 'Nurse Practicioner' 'Automation Specialist II' 'Marketing Assistant'\n",
      " 'Marketing Manager' 'Staff Scientist' 'Assistant Professor'\n",
      " 'Budget/Accounting Analyst IV' 'Associate Professor' 'Graphic Designer'\n",
      " 'Administrative Assistant II' 'Compensation Analyst'\n",
      " 'Systems Administrator III' 'Financial Advisor' 'Chemical Engineer'\n",
      " 'Web Designer I' 'Senior Developer' 'Office Assistant II' 'Recruiter'\n",
      " 'Operator' 'Programmer Analyst III' 'Quality Engineer'\n",
      " 'Analog Circuit Design manager' 'Cost Accountant' 'Librarian'\n",
      " 'Structural Analysis Engineer' 'Pharmacist' 'Assistant Manager'\n",
      " 'Accountant I' 'Environmental Tech' 'Web Designer III' 'Geologist III'\n",
      " 'Software Test Engineer I' 'Structural Engineer' 'Safety Technician II'\n",
      " 'Web Developer III' 'Programmer Analyst II' 'Design Engineer'\n",
      " 'Statistician I' 'VP Marketing' 'Desktop Support Technician' 'Actuary'\n",
      " 'Database Administrator III' 'Electrical Engineer' 'Tax Accountant'\n",
      " 'Clinical Specialist' 'Database Administrator IV'\n",
      " 'Systems Administrator II' 'Account Coordinator' 'Programmer III'\n",
      " 'Administrative Assistant III' 'Nurse' 'Technical Writer'\n",
      " 'Staff Accountant II' 'Dental Hygienist' 'Sales Representative'\n",
      " 'Budget/Accounting Analyst III' 'Computer Systems Analyst IV'\n",
      " 'Geologist I' 'Financial Analyst' 'Accounting Assistant II'\n",
      " 'Database Administrator II' 'Engineer I' 'Budget/Accounting Analyst I'\n",
      " 'Developer IV' 'Database Administrator I' 'Environmental Specialist'\n",
      " 'Computer Systems Analyst I' 'Account Representative IV'\n",
      " 'Statistician IV' 'Human Resources Manager' 'GIS Technical Architect'\n",
      " 'Programmer IV' 'Senior Sales Associate' 'Accounting Assistant IV'\n",
      " 'Software Engineer IV' 'Programmer II' 'Engineer III'\n",
      " 'Software Consultant' 'Biostatistician IV' 'Help Desk Technician'\n",
      " 'Automation Specialist I' 'Developer III' 'Human Resources Assistant I'\n",
      " 'Geologist IV' 'Media Manager II' 'Statistician III' 'Engineer II'\n",
      " 'Health Coach II' 'Developer II' 'Systems Administrator I'\n",
      " 'Web Developer I' 'Software Engineer II' 'Accounting Assistant I'\n",
      " 'Research Assistant II' 'Programmer Analyst IV' 'Health Coach I'\n",
      " 'Accountant II' 'Automation Specialist III' 'Administrative Assistant I'\n",
      " 'Health Coach IV' 'Media Manager III' 'Account Representative III'\n",
      " 'Web Designer IV' 'Budget/Accounting Analyst II' 'Web Developer IV'\n",
      " 'Biostatistician III' 'Software Test Engineer IV' 'Research Assistant IV'\n",
      " 'Account Representative I' 'Accountant IV' 'Biostatistician I'\n",
      " 'Human Resources Assistant IV' 'Administrative Assistant IV'\n",
      " 'Programmer I' 'Office Assistant I' 'Human Resources Assistant II'\n",
      " 'Mechanical Systems Engineer' 'Engineer IV' 'Health Coach III'\n",
      " 'Office Assistant IV' 'Software Engineer I'\n",
      " 'Human Resources Assistant III' 'Staff Accountant I'\n",
      " 'Computer Systems Analyst III' 'Geologist II' 'Web Designer II'\n",
      " 'Staff Accountant IV' 'Account Representative II' 'Programmer Analyst I'\n",
      " 'Systems Administrator IV' 'Research Assistant III']\n",
      "blanks: 497\n"
     ]
    }
   ],
   "source": [
    "# Assessing Job title \n",
    "print('job_title : ', customer_demo_df['job_title'].unique())  # printing unique values \n",
    "\n",
    "print('blanks:', pd.isna(customer_demo_df['job_title']).sum()) # number of blanks"
   ]
  },
  {
   "cell_type": "code",
   "execution_count": 152,
   "metadata": {},
   "outputs": [
    {
     "name": "stdout",
     "output_type": "stream",
     "text": [
      "blanks: 0\n"
     ]
    }
   ],
   "source": [
    "# Replacing missing job_titles with 'n/a'\n",
    "\n",
    "customer_demo_df['job_title'] = customer_demo_df['job_title'].fillna('n/a')\n",
    "\n",
    "print('blanks:', pd.isna(customer_demo_df['job_title']).sum()) # number of blanks"
   ]
  },
  {
   "cell_type": "code",
   "execution_count": 153,
   "metadata": {},
   "outputs": [
    {
     "name": "stdout",
     "output_type": "stream",
     "text": [
      "job_industry_category :  ['Health' 'Financial Services' 'Property' 'IT' nan 'Retail' 'Argiculture'\n",
      " 'Manufacturing' 'Telecommunications' 'Entertainment']\n",
      "blanks: 656\n"
     ]
    }
   ],
   "source": [
    "# Assessing Job Indutry \n",
    "print('job_industry_category : ', customer_demo_df['job_industry_category'].unique())  # printing unique values \n",
    "\n",
    "print('blanks:', pd.isna(customer_demo_df['job_industry_category']).sum()) # number of blanks"
   ]
  },
  {
   "cell_type": "code",
   "execution_count": 154,
   "metadata": {},
   "outputs": [
    {
     "name": "stdout",
     "output_type": "stream",
     "text": [
      "blanks: 0\n"
     ]
    }
   ],
   "source": [
    "# Replacing missing job_industry_category with 'n/a'\n",
    "\n",
    "customer_demo_df['job_industry_category'] = customer_demo_df['job_industry_category'].fillna('n/a')\n",
    "\n",
    "\n",
    "print('blanks:', pd.isna(customer_demo_df['job_industry_category']).sum()) # number of blanks"
   ]
  },
  {
   "cell_type": "code",
   "execution_count": 155,
   "metadata": {},
   "outputs": [
    {
     "name": "stdout",
     "output_type": "stream",
     "text": [
      "wealth_segment: ['Mass Customer' 'Affluent Customer' 'High Net Worth']\n",
      "blanks: 0\n"
     ]
    },
    {
     "data": {
      "text/plain": [
       "(array([1954.,    0.,    0.,    0.,    0.,  962.,    0.,    0.,    0.,\n",
       "         996.]),\n",
       " array([0. , 0.2, 0.4, 0.6, 0.8, 1. , 1.2, 1.4, 1.6, 1.8, 2. ]),\n",
       " <a list of 10 Patch objects>)"
      ]
     },
     "execution_count": 155,
     "metadata": {},
     "output_type": "execute_result"
    },
    {
     "data": {
      "image/png": "[encoded data removed]",
      "text/plain": [
       "<Figure size 432x288 with 1 Axes>"
      ]
     },
     "metadata": {
      "needs_background": "light"
     },
     "output_type": "display_data"
    }
   ],
   "source": [
    "#Assessing Wealth Segment\n",
    "\n",
    "print('wealth_segment:', customer_demo_df['wealth_segment'].unique())\n",
    "\n",
    "print('blanks:', pd.isna(customer_demo_df['wealth_segment']).sum())\n",
    "\n",
    "plt.hist(customer_demo_df['wealth_segment'][pd.notna(customer_demo_df['wealth_segment'])])"
   ]
  },
  {
   "cell_type": "code",
   "execution_count": 156,
   "metadata": {},
   "outputs": [
    {
     "name": "stdout",
     "output_type": "stream",
     "text": [
      "Deceased State: ['N' 'Y']\n",
      "blanks: 0\n",
      "Number of Deceased :  2\n"
     ]
    },
    {
     "data": {
      "image/png": "[encoded data removed]",
      "text/plain": [
       "<Figure size 432x288 with 1 Axes>"
      ]
     },
     "metadata": {
      "needs_background": "light"
     },
     "output_type": "display_data"
    }
   ],
   "source": [
    "#Assessing Deceased\n",
    "\n",
    "print('Deceased State:', customer_demo_df['deceased_indicator'].unique())\n",
    "\n",
    "print('blanks:', pd.isna(customer_demo_df['deceased_indicator']).sum())\n",
    "\n",
    "plt.hist(customer_demo_df['deceased_indicator'][pd.notna(customer_demo_df['deceased_indicator'])])\n",
    "\n",
    "print( 'Number of Deceased : ' , customer_demo_df['deceased_indicator'][customer_demo_df['deceased_indicator'] == 'Y'].count() )"
   ]
  },
  {
   "cell_type": "code",
   "execution_count": 159,
   "metadata": {},
   "outputs": [
    {
     "name": "stdout",
     "output_type": "stream",
     "text": [
      "Car Owner : ['Yes' 'No']\n",
      "blanks: 0\n"
     ]
    },
    {
     "data": {
      "text/plain": [
       "(array([1974.,    0.,    0.,    0.,    0.,    0.,    0.,    0.,    0.,\n",
       "        1938.]),\n",
       " array([0. , 0.1, 0.2, 0.3, 0.4, 0.5, 0.6, 0.7, 0.8, 0.9, 1. ]),\n",
       " <a list of 10 Patch objects>)"
      ]
     },
     "execution_count": 159,
     "metadata": {},
     "output_type": "execute_result"
    },
    {
     "data": {
      "image/png": "[encoded data removed]",
      "text/plain": [
       "<Figure size 432x288 with 1 Axes>"
      ]
     },
     "metadata": {
      "needs_background": "light"
     },
     "output_type": "display_data"
    }
   ],
   "source": [
    "#Assess car ownership \n",
    "\n",
    "print('Car Owner :', customer_demo_df['owns_car'].unique())\n",
    "\n",
    "print('blanks:', pd.isna(customer_demo_df['owns_car']).sum())\n",
    "plt.hist(customer_demo_df['owns_car'][pd.notna(customer_demo_df['owns_car'])])"
   ]
  },
  {
   "cell_type": "code",
   "execution_count": 160,
   "metadata": {},
   "outputs": [
    {
     "name": "stdout",
     "output_type": "stream",
     "text": [
      "tenure blanks: 0\n"
     ]
    }
   ],
   "source": [
    "#Assessing Tenure\n",
    "\n",
    "print('tenure blanks:', pd.isna(customer_demo_df['tenure']).sum())"
   ]
  },
  {
   "cell_type": "code",
   "execution_count": 189,
   "metadata": {},
   "outputs": [
    {
     "name": "stdout",
     "output_type": "stream",
     "text": [
      "       customer_id  past_3_years_bike_related_purchases          Age  \\\n",
      "count  3912.000000                          3912.000000  3912.000000   \n",
      "mean   1999.828221                            49.039366    43.481470   \n",
      "std    1154.903377                            28.768226    12.626149   \n",
      "min       1.000000                             0.000000    18.838915   \n",
      "25%    1002.750000                            24.000000    33.879326   \n",
      "50%    2000.000000                            48.000000    43.482751   \n",
      "75%    2997.250000                            73.000000    52.986861   \n",
      "max    4000.000000                            99.000000    89.269052   \n",
      "\n",
      "            tenure  \n",
      "count  3912.000000  \n",
      "mean     10.654652  \n",
      "std       5.658898  \n",
      "min       1.000000  \n",
      "25%       6.000000  \n",
      "50%      11.000000  \n",
      "75%      15.000000  \n",
      "max      22.000000  \n"
     ]
    }
   ],
   "source": [
    "# Description\n",
    "\n",
    "print(customer_demo_df.describe())"
   ]
  },
  {
   "cell_type": "code",
   "execution_count": 167,
   "metadata": {},
   "outputs": [
    {
     "name": "stdout",
     "output_type": "stream",
     "text": [
      "customer_id                            0\n",
      "first_name                             0\n",
      "last_name                              0\n",
      "gender                                 0\n",
      "past_3_years_bike_related_purchases    0\n",
      "DOB                                    0\n",
      "Age                                    0\n",
      "job_title                              0\n",
      "job_industry_category                  0\n",
      "wealth_segment                         0\n",
      "deceased_indicator                     0\n",
      "owns_car                               0\n",
      "tenure                                 0\n",
      "dtype: int64\n"
     ]
    }
   ],
   "source": [
    "# Blank values\n",
    "print(pd.isna(customer_demo_df).sum())"
   ]
  },
  {
   "cell_type": "code",
   "execution_count": 168,
   "metadata": {},
   "outputs": [
    {
     "name": "stdout",
     "output_type": "stream",
     "text": [
      "      customer_id      first_name  last_name gender  \\\n",
      "0               1         Laraine  Medendorp      F   \n",
      "1               2             Eli    Bockman      M   \n",
      "2               3           Arlin     Dearle      M   \n",
      "3               4          Talbot        n/a      M   \n",
      "4               5  Sheila-kathryn     Calton      F   \n",
      "...           ...             ...        ...    ...   \n",
      "3994         3995           Rusty     Iapico      M   \n",
      "3995         3996         Rosalia   Halgarth      F   \n",
      "3996         3997          Blanch     Nisuis      F   \n",
      "3998         3999       Patrizius        n/a      M   \n",
      "3999         4000           Kippy    Oldland      M   \n",
      "\n",
      "      past_3_years_bike_related_purchases                  DOB        Age  \\\n",
      "0                                      93  1953-10-12 00:00:00  67.282751   \n",
      "1                                      81  1980-12-16 00:00:00  40.085491   \n",
      "2                                      61  1954-01-20 00:00:00  67.008778   \n",
      "3                                      33  1961-10-03 00:00:00  59.301929   \n",
      "4                                      56  1977-05-13 00:00:00  43.682751   \n",
      "...                                   ...                  ...        ...   \n",
      "3994                                   93  1975-12-12 00:00:00  45.101929   \n",
      "3995                                    8  1975-08-09 00:00:00  45.444395   \n",
      "3996                                   87  2001-07-13 00:00:00  19.499189   \n",
      "3998                                   11  1973-10-24 00:00:00  47.236176   \n",
      "3999                                   76  1991-11-05 00:00:00  29.192340   \n",
      "\n",
      "                   job_title job_industry_category     wealth_segment  \\\n",
      "0        Executive Secretary                Health      Mass Customer   \n",
      "1     Administrative Officer    Financial Services      Mass Customer   \n",
      "2         Recruiting Manager              Property      Mass Customer   \n",
      "3                        n/a                    IT      Mass Customer   \n",
      "4              Senior Editor                   n/a  Affluent Customer   \n",
      "...                      ...                   ...                ...   \n",
      "3994         Staff Scientist         Manufacturing      Mass Customer   \n",
      "3995   VP Product Management                Health      Mass Customer   \n",
      "3996         Statistician II         Manufacturing     High Net Worth   \n",
      "3998                     n/a         Manufacturing  Affluent Customer   \n",
      "3999    Software Engineer IV                   n/a  Affluent Customer   \n",
      "\n",
      "     deceased_indicator owns_car  tenure  \n",
      "0                     N      Yes    11.0  \n",
      "1                     N      Yes    16.0  \n",
      "2                     N      Yes    15.0  \n",
      "3                     N       No     7.0  \n",
      "4                     N      Yes     8.0  \n",
      "...                 ...      ...     ...  \n",
      "3994                  N      Yes    14.0  \n",
      "3995                  N       No    19.0  \n",
      "3996                  N      Yes     1.0  \n",
      "3998                  N      Yes    10.0  \n",
      "3999                  N       No    11.0  \n",
      "\n",
      "[3912 rows x 13 columns]\n"
     ]
    }
   ],
   "source": [
    "# data\n",
    "\n",
    "print(customer_demo_df)"
   ]
  },
  {
   "cell_type": "markdown",
   "metadata": {},
   "source": [
    "## Customer Address Sheet"
   ]
  },
  {
   "cell_type": "code",
   "execution_count": 177,
   "metadata": {},
   "outputs": [
    {
     "data": {
      "text/html": [
       "<div>\n",
       "<style scoped>\n",
       "    .dataframe tbody tr th:only-of-type {\n",
       "        vertical-align: middle;\n",
       "    }\n",
       "\n",
       "    .dataframe tbody tr th {\n",
       "        vertical-align: top;\n",
       "    }\n",
       "\n",
       "    .dataframe thead th {\n",
       "        text-align: right;\n",
       "    }\n",
       "</style>\n",
       "<table border=\"1\" class=\"dataframe\">\n",
       "  <thead>\n",
       "    <tr style=\"text-align: right;\">\n",
       "      <th></th>\n",
       "      <th>customer_id</th>\n",
       "      <th>address</th>\n",
       "      <th>postcode</th>\n",
       "      <th>state</th>\n",
       "      <th>country</th>\n",
       "      <th>property_valuation</th>\n",
       "    </tr>\n",
       "  </thead>\n",
       "  <tbody>\n",
       "    <tr>\n",
       "      <th>0</th>\n",
       "      <td>1</td>\n",
       "      <td>060 Morning Avenue</td>\n",
       "      <td>2016</td>\n",
       "      <td>NSW</td>\n",
       "      <td>Australia</td>\n",
       "      <td>10</td>\n",
       "    </tr>\n",
       "    <tr>\n",
       "      <th>1</th>\n",
       "      <td>2</td>\n",
       "      <td>6 Meadow Vale Court</td>\n",
       "      <td>2153</td>\n",
       "      <td>NSW</td>\n",
       "      <td>Australia</td>\n",
       "      <td>10</td>\n",
       "    </tr>\n",
       "    <tr>\n",
       "      <th>2</th>\n",
       "      <td>4</td>\n",
       "      <td>0 Holy Cross Court</td>\n",
       "      <td>4211</td>\n",
       "      <td>QLD</td>\n",
       "      <td>Australia</td>\n",
       "      <td>9</td>\n",
       "    </tr>\n",
       "    <tr>\n",
       "      <th>3</th>\n",
       "      <td>5</td>\n",
       "      <td>17979 Del Mar Point</td>\n",
       "      <td>2448</td>\n",
       "      <td>NSW</td>\n",
       "      <td>Australia</td>\n",
       "      <td>4</td>\n",
       "    </tr>\n",
       "    <tr>\n",
       "      <th>4</th>\n",
       "      <td>6</td>\n",
       "      <td>9 Oakridge Court</td>\n",
       "      <td>3216</td>\n",
       "      <td>VIC</td>\n",
       "      <td>Australia</td>\n",
       "      <td>9</td>\n",
       "    </tr>\n",
       "  </tbody>\n",
       "</table>\n",
       "</div>"
      ],
      "text/plain": [
       "   customer_id              address  postcode state    country  \\\n",
       "0            1   060 Morning Avenue      2016   NSW  Australia   \n",
       "1            2  6 Meadow Vale Court      2153   NSW  Australia   \n",
       "2            4   0 Holy Cross Court      4211   QLD  Australia   \n",
       "3            5  17979 Del Mar Point      2448   NSW  Australia   \n",
       "4            6     9 Oakridge Court      3216   VIC  Australia   \n",
       "\n",
       "   property_valuation  \n",
       "0                  10  \n",
       "1                  10  \n",
       "2                   9  \n",
       "3                   4  \n",
       "4                   9  "
      ]
     },
     "execution_count": 177,
     "metadata": {},
     "output_type": "execute_result"
    }
   ],
   "source": [
    "customer_addr_df = pd.read_excel(file, header=1, sheet_name='CustomerAddress')\n",
    "\n",
    "customer_addr_df.head()"
   ]
  },
  {
   "cell_type": "code",
   "execution_count": 176,
   "metadata": {},
   "outputs": [
    {
     "data": {
      "text/plain": [
       "(3999, 6)"
      ]
     },
     "execution_count": 176,
     "metadata": {},
     "output_type": "execute_result"
    }
   ],
   "source": [
    "#data dimension\n",
    "\n",
    "customer_addr_df.shape"
   ]
  },
  {
   "cell_type": "code",
   "execution_count": 179,
   "metadata": {},
   "outputs": [
    {
     "data": {
      "text/plain": [
       "customer_id           0.0\n",
       "address               0.0\n",
       "postcode              0.0\n",
       "state                 0.0\n",
       "country               0.0\n",
       "property_valuation    0.0\n",
       "dtype: float64"
      ]
     },
     "execution_count": 179,
     "metadata": {},
     "output_type": "execute_result"
    }
   ],
   "source": [
    "# Duplicated data\n",
    "\n",
    "customer_addr_df[customer_addr_df.duplicated()].sum()"
   ]
  },
  {
   "cell_type": "code",
   "execution_count": 180,
   "metadata": {},
   "outputs": [
    {
     "data": {
      "text/plain": [
       "customer_id           0.0\n",
       "address               0.0\n",
       "postcode              0.0\n",
       "state                 0.0\n",
       "country               0.0\n",
       "property_valuation    0.0\n",
       "dtype: float64"
      ]
     },
     "execution_count": 180,
     "metadata": {},
     "output_type": "execute_result"
    }
   ],
   "source": [
    "# Blank data\n",
    "\n",
    "customer_addr_df[customer_addr_df.isna()].sum()"
   ]
  },
  {
   "cell_type": "markdown",
   "metadata": {},
   "source": [
    "*Assessing columns*"
   ]
  },
  {
   "cell_type": "code",
   "execution_count": 183,
   "metadata": {},
   "outputs": [
    {
     "data": {
      "text/plain": [
       "3999"
      ]
     },
     "execution_count": 183,
     "metadata": {},
     "output_type": "execute_result"
    }
   ],
   "source": [
    "# Customer ID unique data\n",
    "\n",
    "pd.notna(customer_addr_df['customer_id'].unique()).sum()"
   ]
  },
  {
   "cell_type": "code",
   "execution_count": 193,
   "metadata": {},
   "outputs": [
    {
     "name": "stdout",
     "output_type": "stream",
     "text": [
      "Customer ID not in demographics dataset: 92\n"
     ]
    }
   ],
   "source": [
    "#Find customer ID not in Demographics\n",
    "\n",
    "sum = 0\n",
    "\n",
    "\n",
    "for i in customer_addr_df['customer_id'] : \n",
    "    if i not in customer_demo_df['customer_id'] :\n",
    "        sum = sum + 1\n",
    "        \n",
    "\n",
    "print('Customer ID not in demographics dataset:' , sum)\n"
   ]
  },
  {
   "cell_type": "code",
   "execution_count": 198,
   "metadata": {},
   "outputs": [
    {
     "name": "stdout",
     "output_type": "stream",
     "text": [
      "state: ['NSW' 'QLD' 'VIC']\n"
     ]
    },
    {
     "data": {
      "text/plain": [
       "(array([2140.,    0.,    0.,    0.,    0.,  838.,    0.,    0.,    0.,\n",
       "        1021.]),\n",
       " array([0. , 0.2, 0.4, 0.6, 0.8, 1. , 1.2, 1.4, 1.6, 1.8, 2. ]),\n",
       " <a list of 10 Patch objects>)"
      ]
     },
     "execution_count": 198,
     "metadata": {},
     "output_type": "execute_result"
    },
    {
     "data": {
      "image/png": "[encoded data removed]",
      "text/plain": [
       "<Figure size 432x288 with 1 Axes>"
      ]
     },
     "metadata": {
      "needs_background": "light"
     },
     "output_type": "display_data"
    }
   ],
   "source": [
    "# Assessing States \n",
    "\n",
    "print('state:', customer_addr_df['state'].unique())\n",
    "plt.hist(customer_addr_df['state'][pd.notna(customer_addr_df['state'])])"
   ]
  },
  {
   "cell_type": "code",
   "execution_count": 201,
   "metadata": {},
   "outputs": [
    {
     "name": "stdout",
     "output_type": "stream",
     "text": [
      "country: ['Australia']\n"
     ]
    }
   ],
   "source": [
    "#Country \n",
    "\n",
    "print('country:', customer_addr_df['country'].unique())"
   ]
  },
  {
   "cell_type": "code",
   "execution_count": 204,
   "metadata": {},
   "outputs": [
    {
     "data": {
      "text/plain": [
       "count    3999.000000\n",
       "mean        7.514379\n",
       "std         2.824663\n",
       "min         1.000000\n",
       "25%         6.000000\n",
       "50%         8.000000\n",
       "75%        10.000000\n",
       "max        12.000000\n",
       "Name: property_valuation, dtype: float64"
      ]
     },
     "execution_count": 204,
     "metadata": {},
     "output_type": "execute_result"
    }
   ],
   "source": [
    "#Property Valuation \n",
    "\n",
    "customer_addr_df['property_valuation'].describe()"
   ]
  },
  {
   "cell_type": "code",
   "execution_count": 205,
   "metadata": {},
   "outputs": [
    {
     "data": {
      "text/plain": [
       "(array([297., 186., 214., 225., 238., 493., 646., 647., 577., 476.]),\n",
       " array([ 1. ,  2.1,  3.2,  4.3,  5.4,  6.5,  7.6,  8.7,  9.8, 10.9, 12. ]),\n",
       " <a list of 10 Patch objects>)"
      ]
     },
     "execution_count": 205,
     "metadata": {},
     "output_type": "execute_result"
    },
    {
     "data": {
      "image/png": "[encoded data removed]",
      "text/plain": [
       "<Figure size 432x288 with 1 Axes>"
      ]
     },
     "metadata": {
      "needs_background": "light"
     },
     "output_type": "display_data"
    }
   ],
   "source": [
    "plt.hist(customer_addr_df['property_valuation'], bins=10)"
   ]
  },
  {
   "cell_type": "markdown",
   "metadata": {},
   "source": [
    "## Transactions\n"
   ]
  },
  {
   "cell_type": "code",
   "execution_count": 206,
   "metadata": {},
   "outputs": [
    {
     "data": {
      "text/html": [
       "<div>\n",
       "<style scoped>\n",
       "    .dataframe tbody tr th:only-of-type {\n",
       "        vertical-align: middle;\n",
       "    }\n",
       "\n",
       "    .dataframe tbody tr th {\n",
       "        vertical-align: top;\n",
       "    }\n",
       "\n",
       "    .dataframe thead th {\n",
       "        text-align: right;\n",
       "    }\n",
       "</style>\n",
       "<table border=\"1\" class=\"dataframe\">\n",
       "  <thead>\n",
       "    <tr style=\"text-align: right;\">\n",
       "      <th></th>\n",
       "      <th>transaction_id</th>\n",
       "      <th>product_id</th>\n",
       "      <th>customer_id</th>\n",
       "      <th>transaction_date</th>\n",
       "      <th>online_order</th>\n",
       "      <th>order_status</th>\n",
       "      <th>brand</th>\n",
       "      <th>product_line</th>\n",
       "      <th>product_class</th>\n",
       "      <th>product_size</th>\n",
       "      <th>list_price</th>\n",
       "      <th>standard_cost</th>\n",
       "      <th>product_first_sold_date</th>\n",
       "      <th>profit</th>\n",
       "    </tr>\n",
       "  </thead>\n",
       "  <tbody>\n",
       "    <tr>\n",
       "      <th>0</th>\n",
       "      <td>94</td>\n",
       "      <td>86</td>\n",
       "      <td>1</td>\n",
       "      <td>2017-12-23</td>\n",
       "      <td>0.0</td>\n",
       "      <td>Approved</td>\n",
       "      <td>OHM Cycles</td>\n",
       "      <td>Standard</td>\n",
       "      <td>medium</td>\n",
       "      <td>medium</td>\n",
       "      <td>235.63</td>\n",
       "      <td>125.07</td>\n",
       "      <td>2005-05-10 00:00:00</td>\n",
       "      <td>110.56</td>\n",
       "    </tr>\n",
       "    <tr>\n",
       "      <th>1</th>\n",
       "      <td>3765</td>\n",
       "      <td>38</td>\n",
       "      <td>1</td>\n",
       "      <td>2017-04-06</td>\n",
       "      <td>1.0</td>\n",
       "      <td>Approved</td>\n",
       "      <td>Solex</td>\n",
       "      <td>Standard</td>\n",
       "      <td>medium</td>\n",
       "      <td>medium</td>\n",
       "      <td>1577.53</td>\n",
       "      <td>826.51</td>\n",
       "      <td>2008-03-19 00:00:00</td>\n",
       "      <td>751.02</td>\n",
       "    </tr>\n",
       "    <tr>\n",
       "      <th>2</th>\n",
       "      <td>5157</td>\n",
       "      <td>47</td>\n",
       "      <td>1</td>\n",
       "      <td>2017-05-11</td>\n",
       "      <td>1.0</td>\n",
       "      <td>Approved</td>\n",
       "      <td>Trek Bicycles</td>\n",
       "      <td>Road</td>\n",
       "      <td>low</td>\n",
       "      <td>small</td>\n",
       "      <td>1720.70</td>\n",
       "      <td>1531.42</td>\n",
       "      <td>2003-07-21 00:00:00</td>\n",
       "      <td>189.28</td>\n",
       "    </tr>\n",
       "    <tr>\n",
       "      <th>3</th>\n",
       "      <td>9785</td>\n",
       "      <td>72</td>\n",
       "      <td>1</td>\n",
       "      <td>2017-01-05</td>\n",
       "      <td>0.0</td>\n",
       "      <td>Approved</td>\n",
       "      <td>Norco Bicycles</td>\n",
       "      <td>Standard</td>\n",
       "      <td>medium</td>\n",
       "      <td>medium</td>\n",
       "      <td>360.40</td>\n",
       "      <td>270.30</td>\n",
       "      <td>2003-09-09 00:00:00</td>\n",
       "      <td>90.10</td>\n",
       "    </tr>\n",
       "    <tr>\n",
       "      <th>4</th>\n",
       "      <td>13424</td>\n",
       "      <td>2</td>\n",
       "      <td>1</td>\n",
       "      <td>2017-02-21</td>\n",
       "      <td>0.0</td>\n",
       "      <td>Approved</td>\n",
       "      <td>Solex</td>\n",
       "      <td>Standard</td>\n",
       "      <td>medium</td>\n",
       "      <td>medium</td>\n",
       "      <td>71.49</td>\n",
       "      <td>53.62</td>\n",
       "      <td>2005-08-09 00:00:00</td>\n",
       "      <td>17.87</td>\n",
       "    </tr>\n",
       "  </tbody>\n",
       "</table>\n",
       "</div>"
      ],
      "text/plain": [
       "   transaction_id  product_id  customer_id transaction_date  online_order  \\\n",
       "0              94          86            1       2017-12-23           0.0   \n",
       "1            3765          38            1       2017-04-06           1.0   \n",
       "2            5157          47            1       2017-05-11           1.0   \n",
       "3            9785          72            1       2017-01-05           0.0   \n",
       "4           13424           2            1       2017-02-21           0.0   \n",
       "\n",
       "  order_status           brand product_line product_class product_size  \\\n",
       "0     Approved      OHM Cycles     Standard        medium       medium   \n",
       "1     Approved           Solex     Standard        medium       medium   \n",
       "2     Approved   Trek Bicycles         Road           low        small   \n",
       "3     Approved  Norco Bicycles     Standard        medium       medium   \n",
       "4     Approved           Solex     Standard        medium       medium   \n",
       "\n",
       "   list_price  standard_cost product_first_sold_date  profit  \n",
       "0      235.63         125.07     2005-05-10 00:00:00  110.56  \n",
       "1     1577.53         826.51     2008-03-19 00:00:00  751.02  \n",
       "2     1720.70        1531.42     2003-07-21 00:00:00  189.28  \n",
       "3      360.40         270.30     2003-09-09 00:00:00   90.10  \n",
       "4       71.49          53.62     2005-08-09 00:00:00   17.87  "
      ]
     },
     "execution_count": 206,
     "metadata": {},
     "output_type": "execute_result"
    }
   ],
   "source": [
    "transact_df = pd.read_excel(file, header=1, sheet_name='Transactions')\n",
    "transact_df.head()"
   ]
  },
  {
   "cell_type": "code",
   "execution_count": 207,
   "metadata": {},
   "outputs": [
    {
     "data": {
      "text/plain": [
       "(20000, 14)"
      ]
     },
     "execution_count": 207,
     "metadata": {},
     "output_type": "execute_result"
    }
   ],
   "source": [
    "transact_df.shape"
   ]
  },
  {
   "cell_type": "code",
   "execution_count": 210,
   "metadata": {},
   "outputs": [
    {
     "data": {
      "text/plain": [
       "transaction_id             0.0\n",
       "product_id                 0.0\n",
       "customer_id                0.0\n",
       "transaction_date           0.0\n",
       "online_order               0.0\n",
       "order_status               0.0\n",
       "brand                      0.0\n",
       "product_line               0.0\n",
       "product_class              0.0\n",
       "product_size               0.0\n",
       "list_price                 0.0\n",
       "standard_cost              0.0\n",
       "product_first_sold_date    0.0\n",
       "profit                     0.0\n",
       "dtype: float64"
      ]
     },
     "execution_count": 210,
     "metadata": {},
     "output_type": "execute_result"
    }
   ],
   "source": [
    "#Empty Values\n",
    "\n",
    "transact_df[transact_df.duplicated()].sum()\n"
   ]
  },
  {
   "cell_type": "code",
   "execution_count": 211,
   "metadata": {},
   "outputs": [
    {
     "data": {
      "text/plain": [
       "transaction_id             0.0\n",
       "product_id                 0.0\n",
       "customer_id                0.0\n",
       "online_order               0.0\n",
       "order_status               0.0\n",
       "brand                      0.0\n",
       "product_line               0.0\n",
       "product_class              0.0\n",
       "product_size               0.0\n",
       "list_price                 0.0\n",
       "standard_cost              0.0\n",
       "product_first_sold_date    0.0\n",
       "profit                     0.0\n",
       "dtype: float64"
      ]
     },
     "execution_count": 211,
     "metadata": {},
     "output_type": "execute_result"
    }
   ],
   "source": [
    "# Empty Values \n",
    "\n",
    "transact_df[transact_df.isna()].sum()"
   ]
  },
  {
   "cell_type": "code",
   "execution_count": 212,
   "metadata": {},
   "outputs": [
    {
     "data": {
      "text/plain": [
       "count    20000.000000\n",
       "mean      1107.829449\n",
       "std        582.825242\n",
       "min         12.010000\n",
       "25%        575.270000\n",
       "50%       1163.890000\n",
       "75%       1635.300000\n",
       "max       2091.470000\n",
       "Name: list_price, dtype: float64"
      ]
     },
     "execution_count": 212,
     "metadata": {},
     "output_type": "execute_result"
    }
   ],
   "source": [
    "#List price summay\n",
    "\n",
    "transact_df['list_price'].describe()"
   ]
  },
  {
   "cell_type": "code",
   "execution_count": 215,
   "metadata": {},
   "outputs": [
    {
     "data": {
      "text/plain": [
       "count    19803.000000\n",
       "mean       556.046951\n",
       "std        405.955660\n",
       "min          7.210000\n",
       "25%        215.140000\n",
       "50%        507.580000\n",
       "75%        795.100000\n",
       "max       1759.850000\n",
       "Name: standard_cost, dtype: float64"
      ]
     },
     "execution_count": 215,
     "metadata": {},
     "output_type": "execute_result"
    }
   ],
   "source": [
    "# Standard Cost summay\n",
    "\n",
    "transact_df['standard_cost'].describe()"
   ]
  },
  {
   "cell_type": "code",
   "execution_count": 216,
   "metadata": {},
   "outputs": [
    {
     "data": {
      "text/plain": [
       "count    19803.000000\n",
       "mean       551.950915\n",
       "std        493.412849\n",
       "min          4.800000\n",
       "25%        133.780000\n",
       "50%        445.210000\n",
       "75%        830.240000\n",
       "max       1702.550000\n",
       "Name: profit, dtype: float64"
      ]
     },
     "execution_count": 216,
     "metadata": {},
     "output_type": "execute_result"
    }
   ],
   "source": [
    "#Creating profits column\n",
    "\n",
    "transact_df['profit'] = transact_df['list_price'] - transact_df['standard_cost']\n",
    "transact_df['profit'].describe()"
   ]
  },
  {
   "cell_type": "code",
   "execution_count": 224,
   "metadata": {},
   "outputs": [
    {
     "name": "stdout",
     "output_type": "stream",
     "text": [
      "Customer ID not in demographics dataset: 460\n",
      "Customer ID not in demographics dataset: 3\n"
     ]
    }
   ],
   "source": [
    "##print('customer_ids not in demographics dataset:', sum([( if (i not in customer_demo_df['customer_id']) else ) for i in customer_addr_df['customer_id']]))\n",
    "#print('customer_ids not in addresses dataset:', sum([( if (i not in customer_demo_df['customer_id']) else ) for i in txnsomer_df['customer_id']]))\n",
    "\n",
    "\n",
    "#Find customer ID not in Demographics\n",
    "\n",
    "sum_1 = 0\n",
    "sum_2 = 0\n",
    "\n",
    "for i in transact_df['customer_id'] : \n",
    "    if i not in customer_demo_df['customer_id'] :\n",
    "        sum_1 = sum_1 + 1\n",
    "        \n",
    "\n",
    "print('Customer ID not in demographics dataset:' , sum_1)\n",
    "\n",
    "for i in transact_df['customer_id'] : \n",
    "    if i not in customer_addr_df['customer_id'] :\n",
    "        sum_2 = sum_2 + 1\n",
    "        \n",
    "\n",
    "print('Customer ID not in demographics dataset:' , sum_2)"
   ]
  },
  {
   "cell_type": "code",
   "execution_count": 223,
   "metadata": {},
   "outputs": [
    {
     "data": {
      "text/plain": [
       "3494"
      ]
     },
     "execution_count": 223,
     "metadata": {},
     "output_type": "execute_result"
    }
   ],
   "source": [
    "pd.notna(transact_df['customer_id'].unique()).sum()"
   ]
  },
  {
   "cell_type": "code",
   "execution_count": 226,
   "metadata": {},
   "outputs": [
    {
     "data": {
      "text/plain": [
       "count                            20000\n",
       "mean     2017-07-01 14:08:05.279999744\n",
       "min                2017-01-01 00:00:00\n",
       "25%                2017-04-01 00:00:00\n",
       "50%                2017-07-03 00:00:00\n",
       "75%                2017-10-02 00:00:00\n",
       "max                2017-12-30 00:00:00\n",
       "Name: transaction_date, dtype: object"
      ]
     },
     "execution_count": 226,
     "metadata": {},
     "output_type": "execute_result"
    }
   ],
   "source": [
    "# transaction dates\n",
    "\n",
    "transact_df['transaction_date'].describe(datetime_is_numeric=True)"
   ]
  },
  {
   "cell_type": "code",
   "execution_count": 228,
   "metadata": {},
   "outputs": [
    {
     "name": "stdout",
     "output_type": "stream",
     "text": [
      "online_order: [ 0.  1. nan]\n"
     ]
    },
    {
     "data": {
      "text/plain": [
       "(array([9811.,    0.,    0.,    0.,    0.,    0.,    0.,    0.,    0.,\n",
       "        9829.]),\n",
       " array([0. , 0.1, 0.2, 0.3, 0.4, 0.5, 0.6, 0.7, 0.8, 0.9, 1. ]),\n",
       " <a list of 10 Patch objects>)"
      ]
     },
     "execution_count": 228,
     "metadata": {},
     "output_type": "execute_result"
    },
    {
     "data": {
      "image/png": "[encoded data removed]",
      "text/plain": [
       "<Figure size 432x288 with 1 Axes>"
      ]
     },
     "metadata": {
      "needs_background": "light"
     },
     "output_type": "display_data"
    }
   ],
   "source": [
    "# Online order \n",
    "\n",
    "print('online_order:', transact_df['online_order'].unique())\n",
    "\n",
    "plt.hist(transact_df['online_order'][pd.notna(transact_df['online_order'])])"
   ]
  },
  {
   "cell_type": "code",
   "execution_count": 231,
   "metadata": {},
   "outputs": [
    {
     "name": "stdout",
     "output_type": "stream",
     "text": [
      "order_status: ['Approved' 'Cancelled']\n"
     ]
    },
    {
     "data": {
      "text/plain": [
       "(array([19821.,     0.,     0.,     0.,     0.,     0.,     0.,     0.,\n",
       "            0.,   179.]),\n",
       " array([0. , 0.1, 0.2, 0.3, 0.4, 0.5, 0.6, 0.7, 0.8, 0.9, 1. ]),\n",
       " <a list of 10 Patch objects>)"
      ]
     },
     "execution_count": 231,
     "metadata": {},
     "output_type": "execute_result"
    },
    {
     "data": {
      "image/png": "[encoded data removed]",
      "text/plain": [
       "<Figure size 432x288 with 1 Axes>"
      ]
     },
     "metadata": {
      "needs_background": "light"
     },
     "output_type": "display_data"
    }
   ],
   "source": [
    "# Order status \n",
    "\n",
    "print('order_status:', transact_df['order_status'].unique())\n",
    "\n",
    "plt.hist(transact_df['order_status'][pd.notna(transact_df['order_status'])])"
   ]
  },
  {
   "cell_type": "code",
   "execution_count": 232,
   "metadata": {},
   "outputs": [
    {
     "data": {
      "text/plain": [
       "179"
      ]
     },
     "execution_count": 232,
     "metadata": {},
     "output_type": "execute_result"
    }
   ],
   "source": [
    "#Number of cancelled orders \n",
    "\n",
    "transact_df['order_status'][transact_df['order_status'] == 'Cancelled'].count()"
   ]
  },
  {
   "cell_type": "code",
   "execution_count": 234,
   "metadata": {},
   "outputs": [
    {
     "name": "stdout",
     "output_type": "stream",
     "text": [
      "brand: ['OHM Cycles' 'Solex' 'Trek Bicycles' 'Norco Bicycles' 'Giant Bicycles'\n",
      " 'WeareA2B' nan]\n"
     ]
    },
    {
     "data": {
      "text/plain": [
       "(array([3043.,    0., 4253.,    0., 2990.,    0., 2910.,    0., 3312.,\n",
       "        3295.]),\n",
       " array([0. , 0.5, 1. , 1.5, 2. , 2.5, 3. , 3.5, 4. , 4.5, 5. ]),\n",
       " <a list of 10 Patch objects>)"
      ]
     },
     "execution_count": 234,
     "metadata": {},
     "output_type": "execute_result"
    },
    {
     "data": {
      "image/png": "[encoded data removed]",
      "text/plain": [
       "<Figure size 432x288 with 1 Axes>"
      ]
     },
     "metadata": {
      "needs_background": "light"
     },
     "output_type": "display_data"
    }
   ],
   "source": [
    "# Brands \n",
    "\n",
    "print('brand:', transact_df['brand'].unique())\n",
    "\n",
    "plt.hist(transact_df['brand'][pd.notna(transact_df['brand'])])"
   ]
  },
  {
   "cell_type": "code",
   "execution_count": 235,
   "metadata": {},
   "outputs": [
    {
     "name": "stdout",
     "output_type": "stream",
     "text": [
      "product_class: ['medium' 'low' 'high' nan]\n"
     ]
    },
    {
     "data": {
      "text/plain": [
       "(array([13826.,     0.,     0.,     0.,     0.,  2964.,     0.,     0.,\n",
       "            0.,  3013.]),\n",
       " array([0. , 0.2, 0.4, 0.6, 0.8, 1. , 1.2, 1.4, 1.6, 1.8, 2. ]),\n",
       " <a list of 10 Patch objects>)"
      ]
     },
     "execution_count": 235,
     "metadata": {},
     "output_type": "execute_result"
    },
    {
     "data": {
      "image/png": "[encoded data removed]",
      "text/plain": [
       "<Figure size 432x288 with 1 Axes>"
      ]
     },
     "metadata": {
      "needs_background": "light"
     },
     "output_type": "display_data"
    }
   ],
   "source": [
    "# Product class \n",
    "\n",
    "print('product_class:', transact_df['product_class'].unique())\n",
    "\n",
    "plt.hist(transact_df['product_class'][pd.notna(transact_df['product_class'])])"
   ]
  },
  {
   "cell_type": "code",
   "execution_count": 236,
   "metadata": {},
   "outputs": [
    {
     "name": "stdout",
     "output_type": "stream",
     "text": [
      "product_line: ['Standard' 'Road' 'Mountain' 'Touring' nan]\n"
     ]
    },
    {
     "data": {
      "text/plain": [
       "(array([14176.,     0.,     0.,  3970.,     0.,     0.,   423.,     0.,\n",
       "            0.,  1234.]),\n",
       " array([0. , 0.3, 0.6, 0.9, 1.2, 1.5, 1.8, 2.1, 2.4, 2.7, 3. ]),\n",
       " <a list of 10 Patch objects>)"
      ]
     },
     "execution_count": 236,
     "metadata": {},
     "output_type": "execute_result"
    },
    {
     "data": {
      "image/png": "[encoded data removed]",
      "text/plain": [
       "<Figure size 432x288 with 1 Axes>"
      ]
     },
     "metadata": {
      "needs_background": "light"
     },
     "output_type": "display_data"
    }
   ],
   "source": [
    "# Product line \n",
    "\n",
    "print('product_line:', transact_df['product_line'].unique())\n",
    "\n",
    "plt.hist(transact_df['product_line'][pd.notna(transact_df['product_line'])])"
   ]
  },
  {
   "cell_type": "code",
   "execution_count": 237,
   "metadata": {},
   "outputs": [
    {
     "name": "stdout",
     "output_type": "stream",
     "text": [
      "product_size : ['medium' 'small' 'large' nan]\n"
     ]
    },
    {
     "data": {
      "text/plain": [
       "(array([12990.,     0.,     0.,     0.,     0.,  2837.,     0.,     0.,\n",
       "            0.,  3976.]),\n",
       " array([0. , 0.2, 0.4, 0.6, 0.8, 1. , 1.2, 1.4, 1.6, 1.8, 2. ]),\n",
       " <a list of 10 Patch objects>)"
      ]
     },
     "execution_count": 237,
     "metadata": {},
     "output_type": "execute_result"
    },
    {
     "data": {
      "image/png": "[encoded data removed]",
      "text/plain": [
       "<Figure size 432x288 with 1 Axes>"
      ]
     },
     "metadata": {
      "needs_background": "light"
     },
     "output_type": "display_data"
    }
   ],
   "source": [
    "# Product Size \n",
    "\n",
    "print('product_size :', transact_df['product_size'].unique())\n",
    "\n",
    "plt.hist(transact_df['product_size'][pd.notna(transact_df['product_size'])])"
   ]
  },
  {
   "cell_type": "code",
   "execution_count": 238,
   "metadata": {},
   "outputs": [
    {
     "data": {
      "text/plain": [
       "<matplotlib.collections.PathCollection at 0x17d2f41dfd0>"
      ]
     },
     "execution_count": 238,
     "metadata": {},
     "output_type": "execute_result"
    },
    {
     "data": {
      "image/png": "[encoded data removed]",
      "text/plain": [
       "<Figure size 432x288 with 1 Axes>"
      ]
     },
     "metadata": {
      "needs_background": "light"
     },
     "output_type": "display_data"
    }
   ],
   "source": [
    "# Profits made by each brand \n",
    "plt.scatter(transact_df['brand'][pd.notna(transact_df['brand'])], transact_df['profit'][pd.notna(transact_df['brand'])])\n"
   ]
  },
  {
   "cell_type": "code",
   "execution_count": null,
   "metadata": {},
   "outputs": [],
   "source": []
  }
 ],
 "metadata": {
  "kernelspec": {
   "display_name": "Python 3",
   "language": "python",
   "name": "python3"
  },
  "language_info": {
   "codemirror_mode": {
    "name": "ipython",
    "version": 3
   },
   "file_extension": ".py",
   "mimetype": "text/x-python",
   "name": "python",
   "nbconvert_exporter": "python",
   "pygments_lexer": "ipython3",
   "version": "3.6.9"
  }
 },
 "nbformat": 4,
 "nbformat_minor": 2
}
